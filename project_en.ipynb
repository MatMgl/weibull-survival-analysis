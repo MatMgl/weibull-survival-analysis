{
 "cells": [
  {
   "cell_type": "code",
   "execution_count": 2,
   "id": "28b7aff4-a8ce-4b23-97ab-de89a4e03e01",
   "metadata": {},
   "outputs": [],
   "source": [
    "#===== 1. Data Import =====\n",
    "library(readxl)\n",
    "library(ggplot2)\n",
    "library(numDeriv)\n",
    "\n",
    "options(repr.plot.width = 6, repr.plot.height = 4)  # np. 6 x 4 cale\n",
    "\n",
    "\n",
    "Dane <- read_excel(\"Dane 8.1.xlsx\")"
   ]
  },
  {
   "cell_type": "code",
   "execution_count": 3,
   "id": "b51dbfc9-a5de-4e65-adee-e1827d251bcb",
   "metadata": {},
   "outputs": [
    {
     "data": {
      "text/html": [
       "2"
      ],
      "text/latex": [
       "2"
      ],
      "text/markdown": [
       "2"
      ],
      "text/plain": [
       "[1] 2"
      ]
     },
     "metadata": {},
     "output_type": "display_data"
    },
    {
     "data": {
      "text/html": [
       "0"
      ],
      "text/latex": [
       "0"
      ],
      "text/markdown": [
       "0"
      ],
      "text/plain": [
       "[1] 0"
      ]
     },
     "metadata": {},
     "output_type": "display_data"
    }
   ],
   "source": [
    "#===== 2. Data Preparation =====\n",
    "T <- Dane$T\n",
    "sum(T == 0) # 2\n",
    "T[T == 0] <- 0.0025  # there were a few zeros\n",
    "sum(T == 0)\n",
    "\n",
    "D <- Dane$D\n",
    "G <- Dane$G"
   ]
  },
  {
   "cell_type": "code",
   "execution_count": 4,
   "id": "052f8ff8-b4a0-45ab-9bfe-c14057317b15",
   "metadata": {},
   "outputs": [],
   "source": [
    "#===== 3. Function for Estimating Weibull Parameters =====\n",
    "lik_dane <- function(x) {\n",
    "  alpha1 <- x[1]  # shape for G = 1\n",
    "  lambda1 <- x[2] # scale for G = 1\n",
    "  alpha0 <- x[3]  # shape for G = 0\n",
    "  lambda0 <- x[4] # scale for G = 0\n",
    "  \n",
    "  grupa1 <- (G == 1) * (D * (log(alpha1 / lambda1) + (alpha1 - 1) * log(T / lambda1)) - (T / lambda1)^alpha1)\n",
    "  grupa0 <- (G == 0) * (D * (log(alpha0 / lambda0) + (alpha0 - 1) * log(T / lambda0)) - (T / lambda0)^alpha0)\n",
    "  \n",
    "  return(-sum(grupa1 + grupa0))  \n",
    "}"
   ]
  },
  {
   "cell_type": "code",
   "execution_count": 5,
   "id": "7a0c5221-478e-4c66-9310-6a22a1bd1e5d",
   "metadata": {},
   "outputs": [],
   "source": [
    "#===== 4. Parameter Estimation via MLE =====\n",
    "mle_dane <- optim(par = c(1, 1, 1, 1), fn = lik_dane, method = \"L-BFGS-B\", lower = rep(1e-6, 4))\n",
    "\n",
    "# method = \"L-BFGS-B\" and lower = rep(1e-6, 4) \n",
    "# to prevent negative parameter values\n"
   ]
  },
  {
   "cell_type": "code",
   "execution_count": 6,
   "id": "696c5fbc-2cf2-40f0-a0c9-13a49aac1c14",
   "metadata": {},
   "outputs": [],
   "source": [
    "#===== 5. Extraction of Estimated Parameters =====\n",
    "alpha1 <- mle_dane$par[1]  \n",
    "lambda1 <- mle_dane$par[2] \n",
    "alpha0 <- mle_dane$par[3]  \n",
    "lambda0 <- mle_dane$par[4] "
   ]
  },
  {
   "cell_type": "code",
   "execution_count": 7,
   "id": "3cfbc276-3f67-45ce-88c2-66e4f50f6f4b",
   "metadata": {},
   "outputs": [],
   "source": [
    "#===== 6. For the Plot =====\n",
    "x <- seq(0, 30, length.out = 300)\n",
    "\n",
    "df_plot <- data.frame(\n",
    "  t = rep(x, 2),\n",
    "  S = c(pweibull(x, shape = alpha1, scale = lambda1, lower.tail = FALSE),\n",
    "        pweibull(x, shape = alpha0, scale = lambda0, lower.tail = FALSE)),\n",
    "  grupa = factor(rep(c(\"G = 1\", \"G = 0\"), each = length(x)))\n",
    ")"
   ]
  },
  {
   "cell_type": "code",
   "execution_count": 8,
   "id": "f2cbf684-1e62-460e-bac7-dbb69c74fd70",
   "metadata": {},
   "outputs": [
    {
     "data": {
      "image/png": "[encoded data removed]",
      "text/plain": [
       "plot without title"
      ]
     },
     "metadata": {},
     "output_type": "display_data"
    }
   ],
   "source": [
    "#===== 7. Plot with ggplot2 =====\n",
    "ggplot(df_plot, aes(x = t, y = S, color = grupa)) +\n",
    "  geom_line(size = 1.2) +\n",
    "  labs(title = \"Weibull Survival Curves\",\n",
    "       x = \"Time\",\n",
    "       y = \"Survival Probability\",\n",
    "       color = \"Group\") +\n",
    "  theme_minimal() +\n",
    "  theme(text = element_text(size = 13))"
   ]
  },
  {
   "cell_type": "code",
   "execution_count": 9,
   "id": "61dbb655-d307-44b6-a032-ea71560b34eb",
   "metadata": {},
   "outputs": [
    {
     "name": "stdout",
     "output_type": "stream",
     "text": [
      "Median for G = 1: 3.002 \n",
      "Median for G = 0: 3.187"
     ]
    }
   ],
   "source": [
    "#===== 8. Calculating Median Survival for Both Groups =====\n",
    "mediana_G1 <- lambda1 * (log(2))^(1 / alpha1)\n",
    "mediana_G0 <- lambda0 * (log(2))^(1 / alpha0)\n",
    "\n",
    "cat(\"Median for G = 1:\", round(mediana_G1, 3),\n",
    "    \"\\nMedian for G = 0:\", round(mediana_G0, 3))"
   ]
  },
  {
   "cell_type": "code",
   "execution_count": 10,
   "id": "e7a3ec70-5fca-45d4-bf7a-9bf425688d5f",
   "metadata": {},
   "outputs": [],
   "source": [
    "#===== 9. Variance-Covariance Matrix (Asymptotic) =====\n",
    "# The function lik() is the negative log-likelihood\n",
    "# So the Hessian matrix = - observed Fisher information matrix\n",
    "# library(numDeriv)\n",
    "hessian_macierz <- hessian(func = lik_dane, x = mle_dane$par)\n",
    "vcov_matrix <- solve(hessian_macierz)\n",
    "# This gives the asymptotic variance-covariance matrix of the estimators"
   ]
  },
  {
   "cell_type": "code",
   "execution_count": 11,
   "id": "ffc42fe9-19d7-439b-8e24-21e671c86f50",
   "metadata": {},
   "outputs": [],
   "source": [
    "#===== 10. Delta Method – CI for G = 1 =====\n",
    "# The relevant part of the covariance matrix\n",
    "V1 <- vcov_matrix[1:2, 1:2]\n",
    "\n",
    "# Derivatives for the gradient\n",
    "# median = g(alpha, lambda) = lambda * (log(2))^(1/alpha)\n",
    "d_alpha1 <- -lambda1 * (log(2))^(1 / alpha1) * log(log(2)) / (alpha1^2)\n",
    "d_lambda1 <- (log(2))^(1 / alpha1)\n",
    "\n",
    "grad1 <- c(d_alpha1, d_lambda1)\n",
    "\n",
    "# Variance = gradient^T * V * gradient\n",
    "var_mediana1 <- t(grad1) %*% V1 %*% grad1\n",
    "se_mediana1 <- sqrt(var_mediana1)\n",
    "\n",
    "# Confidence interval\n",
    "PU1 <- c(mediana_G1 - 1.96 * se_mediana1, mediana_G1 + 1.96 * se_mediana1)"
   ]
  },
  {
   "cell_type": "code",
   "execution_count": 12,
   "id": "aef98160-0895-4e20-afca-ddc01d4cea99",
   "metadata": {},
   "outputs": [],
   "source": [
    "#===== 11. Delta Method – CI for G = 0 =====\n",
    "# Same as before, but for the second set of parameters\n",
    "V0 <- vcov_matrix[3:4, 3:4]\n",
    "d_alpha0 <- -lambda0 * (log(2))^(1 / alpha0) * log(log(2)) / (alpha0^2)\n",
    "d_lambda0 <- (log(2))^(1 / alpha0)\n",
    "grad0 <- c(d_alpha0, d_lambda0)\n",
    "var_mediana0 <- t(grad0) %*% V0 %*% grad0\n",
    "se_mediana0 <- sqrt(var_mediana0)\n",
    "PU0 <- c(mediana_G0 - 1.96 * se_mediana0, mediana_G0 + 1.96 * se_mediana0)"
   ]
  },
  {
   "cell_type": "code",
   "execution_count": 13,
   "id": "61b2b1f0-095f-4150-909c-10c0fef84279",
   "metadata": {},
   "outputs": [
    {
     "name": "stdout",
     "output_type": "stream",
     "text": [
      "Median for G = 1: 3.002 \n",
      "95% CI for median G = 1: 2.488 - 3.515 \n",
      " \n",
      "Median for G = 0: 3.187 \n",
      "95% CI for median G = 0: 2.973 - 3.402"
     ]
    }
   ],
   "source": [
    "#===== 12. Obtained 95% Confidence Intervals =====\n",
    "cat(\"Median for G = 1:\", round(mediana_G1, 3),\n",
    "    \"\\n95% CI for median G = 1:\", round(PU1[1], 3), \"-\", round(PU1[2], 3), \"\\n\",\n",
    "    \"\\nMedian for G = 0:\", round(mediana_G0, 3),\n",
    "    \"\\n95% CI for median G = 0:\", round(PU0[1], 3), \"-\", round(PU0[2], 3))"
   ]
  },
  {
   "cell_type": "code",
   "execution_count": 14,
   "id": "7882ef04-0f17-4867-94ab-85378f468824",
   "metadata": {},
   "outputs": [
    {
     "data": {
      "image/png": "[encoded data removed]",
      "text/plain": [
       "plot without title"
      ]
     },
     "metadata": {},
     "output_type": "display_data"
    }
   ],
   "source": [
    "#===== 13. Plot with Marked Medians and Confidence Intervals =====\n",
    "x <- seq(2, 4, length.out = 300) # for other data – adjust the range accordingly !!!\n",
    "\n",
    "df_plot <- data.frame(\n",
    "  t = rep(x, 2),\n",
    "  S = c(pweibull(x, shape = alpha1, scale = lambda1, lower.tail = FALSE),\n",
    "        pweibull(x, shape = alpha0, scale = lambda0, lower.tail = FALSE)),\n",
    "  grupa = factor(rep(c(\"G = 1\", \"G = 0\"), each = length(x)))\n",
    ")\n",
    "\n",
    "ggplot(df_plot, aes(x = t, y = S, color = grupa)) +\n",
    "  geom_line(size = 1.2) +\n",
    "  # Horizontal line at S = 0.5\n",
    "  geom_hline(yintercept = 0.5, linetype = \"dashed\", color = \"black\") +\n",
    "  # Vertical lines – medians\n",
    "  geom_vline(xintercept = mediana_G1, linetype = \"dashed\", color = \"blue\") +\n",
    "  geom_vline(xintercept = mediana_G0, linetype = \"dashed\", color = \"red\") +\n",
    "  # Vertical lines – 95% CI for medians\n",
    "  geom_vline(xintercept = PU1[1], linetype = \"dotted\", color = \"blue\") +\n",
    "  geom_vline(xintercept = PU1[2], linetype = \"dotted\", color = \"blue\") +\n",
    "  geom_vline(xintercept = PU0[1], linetype = \"dotted\", color = \"red\") +\n",
    "  geom_vline(xintercept = PU0[2], linetype = \"dotted\", color = \"red\") +\n",
    "  labs(title = \"Weibull Survival Curves with Medians and 95% CI\",\n",
    "       x = \"Time\",\n",
    "       y = \"Survival Probability\",\n",
    "       color = \"Group\") +\n",
    "  theme_minimal() +\n",
    "  theme(text = element_text(size = 13))\n"
   ]
  },
  {
   "cell_type": "code",
   "execution_count": 15,
   "id": "f56b4c94-bc4b-4402-a817-c931a4b1c276",
   "metadata": {},
   "outputs": [
    {
     "name": "stdout",
     "output_type": "stream",
     "text": [
      "Median for G = 1: 3.002 \n",
      "95% CI for median G = 1: 2.488 - 3.515 \n",
      "Bootstrap CI for median G = 1: 2.582 3.547 \n",
      " \n",
      "Median for G = 0: 3.187 \n",
      "95% CI for median G = 0: 2.973 - 3.402 \n",
      "Bootstrap CI for median G = 0: 2.986 3.4 \n"
     ]
    }
   ],
   "source": [
    "#===== 14. Bootstrap for Median in Both Groups =====\n",
    "# An alternative way to calculate confidence intervals\n",
    "\n",
    "B <- 1000  # number of repetitions\n",
    "\n",
    "# number of generated samples per group\n",
    "n1 <- sum(G == 1)\n",
    "n0 <- sum(G == 0)\n",
    "\n",
    "# arrays to store results\n",
    "boot_median_G1 <- numeric(B)\n",
    "boot_median_G0 <- numeric(B)\n",
    "\n",
    "# Bootstrap for G = 1\n",
    "for (b in 1:B) {\n",
    "  T_sim <- rweibull(n1, shape = alpha1, scale = lambda1)\n",
    "  # MLE for simulated data\n",
    "  mle <- suppressWarnings(\n",
    "    optim(par = c(1, 1), \n",
    "    fn = function(x) {\n",
    "      a <- x[1] \n",
    "      l <- x[2]\n",
    "      -sum(log(a / l) + (a - 1) * log(T_sim / l) - (T_sim / l)^a)\n",
    "    }, \n",
    "    method = \"L-BFGS-B\", lower = rep(1e-6, 2))\n",
    "  )\n",
    "  a_hat <- mle$par[1]\n",
    "  l_hat <- mle$par[2]\n",
    "  boot_median_G1[b] <- l_hat * (log(2))^(1 / a_hat)\n",
    "}\n",
    "\n",
    "# Bootstrap for G = 0\n",
    "for (b in 1:B) {\n",
    "  T_sim <- rweibull(n0, shape = alpha0, scale = lambda0)\n",
    "  mle <- suppressWarnings(\n",
    "    optim(par = c(1, 1), \n",
    "    fn = function(x) {\n",
    "      a <- x[1]\n",
    "      l <- x[2]\n",
    "      -sum(log(a / l) + (a - 1) * log(T_sim / l) - (T_sim / l)^a)\n",
    "    }, \n",
    "    method = \"L-BFGS-B\", lower = rep(1e-6, 2))\n",
    "  )\n",
    "  a_hat <- mle$par[1]\n",
    "  l_hat <- mle$par[2]\n",
    "  boot_median_G0[b] <- l_hat * (log(2))^(1 / a_hat)\n",
    "}\n",
    "\n",
    "# Confidence intervals (percentile method)\n",
    "PU_boot_G1 <- quantile(boot_median_G1, probs = c(0.025, 0.975))\n",
    "PU_boot_G0 <- quantile(boot_median_G0, probs = c(0.025, 0.975))\n",
    "\n",
    "# Results\n",
    "cat(\"Median for G = 1:\", round(mediana_G1, 3),\n",
    "    \"\\n95% CI for median G = 1:\", round(PU1[1], 3), \"-\", round(PU1[2], 3),\n",
    "    \"\\nBootstrap CI for median G = 1:\", round(PU_boot_G1, 3), \"\\n\",\n",
    "    \"\\nMedian for G = 0:\", round(mediana_G0, 3),\n",
    "    \"\\n95% CI for median G = 0:\", round(PU0[1], 3), \"-\", round(PU0[2], 3),\n",
    "    \"\\nBootstrap CI for median G = 0:\", round(PU_boot_G0, 3), \"\\n\")\n"
   ]
  },
  {
   "cell_type": "code",
   "execution_count": 16,
   "id": "ce9a8559-7751-4988-afde-09805ca2359e",
   "metadata": {},
   "outputs": [
    {
     "data": {
      "text/html": [
       "<ol class=list-inline>\n",
       "\t<li>0.830920192928391</li>\n",
       "\t<li>4.66586227007381</li>\n",
       "\t<li>1.87743682916729</li>\n",
       "\t<li>3.87441117982433</li>\n",
       "</ol>\n"
      ],
      "text/latex": [
       "\\begin{enumerate*}\n",
       "\\item 0.830920192928391\n",
       "\\item 4.66586227007381\n",
       "\\item 1.87743682916729\n",
       "\\item 3.87441117982433\n",
       "\\end{enumerate*}\n"
      ],
      "text/markdown": [
       "1. 0.830920192928391\n",
       "2. 4.66586227007381\n",
       "3. 1.87743682916729\n",
       "4. 3.87441117982433\n",
       "\n",
       "\n"
      ],
      "text/plain": [
       "[1] 0.8309202 4.6658623 1.8774368 3.8744112"
      ]
     },
     "metadata": {},
     "output_type": "display_data"
    },
    {
     "data": {
      "text/html": [
       "<ol class=list-inline>\n",
       "\t<li>0.837952568939299</li>\n",
       "\t<li>4.89599484324507</li>\n",
       "\t<li>1.86792830277318</li>\n",
       "</ol>\n"
      ],
      "text/latex": [
       "\\begin{enumerate*}\n",
       "\\item 0.837952568939299\n",
       "\\item 4.89599484324507\n",
       "\\item 1.86792830277318\n",
       "\\end{enumerate*}\n"
      ],
      "text/markdown": [
       "1. 0.837952568939299\n",
       "2. 4.89599484324507\n",
       "3. 1.86792830277318\n",
       "\n",
       "\n"
      ],
      "text/plain": [
       "[1] 0.8379526 4.8959948 1.8679283"
      ]
     },
     "metadata": {},
     "output_type": "display_data"
    },
    {
     "name": "stdout",
     "output_type": "stream",
     "text": [
      "LR statistic: 0.411 \n",
      "p-value of the test: 0.5216"
     ]
    }
   ],
   "source": [
    "#===== 15. Likelihood Ratio Test =====\n",
    "\n",
    "# (H1) – unrestricted median model – already fitted above\n",
    "\n",
    "mle_H1 <- optim(par = c(1, 1, 1, 1), fn = lik_dane, method = \"L-BFGS-B\", lower = rep(1e-6, 4))\n",
    "mle_H1$par\n",
    "lrtest_H1 <- mle_H1$value\n",
    "\n",
    "# Fit the model under the null hypothesis (H0) with equal medians\n",
    "lik_H0 <- function(x) {\n",
    "  alpha1 <- x[1]\n",
    "  lambda1 <- x[2]\n",
    "  alpha0 <- x[3]\n",
    "  \n",
    "  lambda0 <- lambda1 * (log(2))^(1/alpha1 - 1/alpha0)\n",
    "  \n",
    "  grupa1 <- (G == 1) * (D * (log(alpha1 / lambda1) + (alpha1 - 1) * log(T / lambda1)) - (T / lambda1)^alpha1)\n",
    "  grupa0 <- (G == 0) * (D * (log(alpha0 / lambda0) + (alpha0 - 1) * log(T / lambda0)) - (T / lambda0)^alpha0)\n",
    "  \n",
    "  return(-sum(grupa1 + grupa0))\n",
    "}\n",
    "\n",
    "mle_H0 <- optim(par = c(1, 1, 1), fn = lik_H0, method = \"L-BFGS-B\", lower = rep(1e-6, 3))\n",
    "mle_H0$par\n",
    "lrtest_H0 <- mle_H0$value\n",
    "\n",
    "# LR statistic\n",
    "LR <- 2 * (lrtest_H0 - lrtest_H1)\n",
    "p_value_lrtest <- 1 - pchisq(LR, df = 1) # 4-3 parameters\n",
    "\n",
    "# Result\n",
    "cat(\"LR statistic:\", round(LR, 3),\n",
    "    \"\\np-value of the test:\", round(p_value_lrtest, 4))\n"
   ]
  },
  {
   "cell_type": "code",
   "execution_count": 17,
   "id": "b892528e-5217-4fe4-bb25-6907647b8799",
   "metadata": {},
   "outputs": [
    {
     "data": {
      "text/html": [
       "520"
      ],
      "text/latex": [
       "520"
      ],
      "text/markdown": [
       "520"
      ],
      "text/plain": [
       "[1] 520"
      ]
     },
     "metadata": {},
     "output_type": "display_data"
    },
    {
     "data": {
      "text/html": [
       "0.185595858666221"
      ],
      "text/latex": [
       "0.185595858666221"
      ],
      "text/markdown": [
       "0.185595858666221"
      ],
      "text/plain": [
       "[1] 0.1855959"
      ]
     },
     "metadata": {},
     "output_type": "display_data"
    },
    {
     "data": {
      "text/html": [
       "<ol class=list-inline>\n",
       "\t<li>0.714584786423727</li>\n",
       "\t<li>0.0614337600269415</li>\n",
       "\t<li>0.0463973002478202</li>\n",
       "\t<li>0.165413469199317</li>\n",
       "\t<li>0.647607032555404</li>\n",
       "\t<li>0.265073435204067</li>\n",
       "</ol>\n"
      ],
      "text/latex": [
       "\\begin{enumerate*}\n",
       "\\item 0.714584786423727\n",
       "\\item 0.0614337600269415\n",
       "\\item 0.0463973002478202\n",
       "\\item 0.165413469199317\n",
       "\\item 0.647607032555404\n",
       "\\item 0.265073435204067\n",
       "\\end{enumerate*}\n"
      ],
      "text/markdown": [
       "1. 0.714584786423727\n",
       "2. 0.0614337600269415\n",
       "3. 0.0463973002478202\n",
       "4. 0.165413469199317\n",
       "5. 0.647607032555404\n",
       "6. 0.265073435204067\n",
       "\n",
       "\n"
      ],
      "text/plain": [
       "[1] 0.71458479 0.06143376 0.04639730 0.16541347 0.64760703 0.26507344"
      ]
     },
     "metadata": {},
     "output_type": "display_data"
    },
    {
     "name": "stdout",
     "output_type": "stream",
     "text": [
      "Observed median difference: 0.186 \n",
      "p-value of the test: 0.52 \n"
     ]
    }
   ],
   "source": [
    "#===== 16. Bootstrap Test for Median Difference under H0: Common Median =====\n",
    "B <- 1000\n",
    "n1 <- sum(G == 1)\n",
    "n0 <- sum(G == 0)\n",
    "\n",
    "# Fit Weibull model under H0 (common median)\n",
    "mle_boot_h0 <- optim(par = c(1, 1, 1), fn = function(x) {\n",
    "  alpha1 <- x[1]  # shape for G = 1\n",
    "  lambda1 <- x[2] # scale for G = 1\n",
    "  alpha0 <- x[3]  # shape for G = 0\n",
    "  \n",
    "  # Calculate scale for G = 0 to ensure equal medians\n",
    "  lambda0 <- lambda1 * (log(2))^(1 / alpha1 - 1 / alpha0)\n",
    "  \n",
    "  # Log-likelihood\n",
    "  grupa1 <- (G == 1) * (D * (log(alpha1 / lambda1) + (alpha1 - 1) * log(T / lambda1)) - (T / lambda1)^alpha1)\n",
    "  grupa0 <- (G == 0) * (D * (log(alpha0 / lambda0) + (alpha0 - 1) * log(T / lambda0)) - (T / lambda0)^alpha0)\n",
    "  \n",
    "  return(-sum(grupa1 + grupa0))\n",
    "}, method = \"L-BFGS-B\", lower = rep(1e-6, 3))\n",
    "\n",
    "alpha_boot_h0_1 <- mle_boot_h0$par[1]\n",
    "lambda_boot_h0_1 <- mle_boot_h0$par[2]\n",
    "alpha_boot_h0_0 <- mle_boot_h0$par[3]\n",
    "lambda_boot_h0_0 <- lambda_boot_h0_1 * (log(2))^(1 / alpha_boot_h0_1 - 1 / alpha_boot_h0_0)\n",
    "\n",
    "# Simulation under H0\n",
    "boot_diffs_h0 <- numeric(B)\n",
    "\n",
    "for (b in 1:B) {\n",
    "  # Generate samples from Weibull with equal median but different shapes\n",
    "  T_sim_G1 <- rweibull(n1, shape = alpha_boot_h0_1, scale = lambda_boot_h0_1)\n",
    "  T_sim_G0 <- rweibull(n0, shape = alpha_boot_h0_0, scale = lambda_boot_h0_0)\n",
    "  \n",
    "  # Fit Weibull to each simulated group\n",
    "  mle1 <- optim(par = c(1, 1), fn = function(par) {\n",
    "    a <- par[1]; l <- par[2]\n",
    "    -sum(log(a / l) + (a - 1) * log(T_sim_G1 / l) - (T_sim_G1 / l)^a)\n",
    "  }, method = \"L-BFGS-B\", lower = rep(1e-6, 2))\n",
    "  \n",
    "  mle0 <- optim(par = c(1, 1), fn = function(par) {\n",
    "    a <- par[1]; l <- par[2]\n",
    "    -sum(log(a / l) + (a - 1) * log(T_sim_G0 / l) - (T_sim_G0 / l)^a)\n",
    "  }, method = \"L-BFGS-B\", lower = rep(1e-6, 2))\n",
    "  \n",
    "  m1 <- mle1$par[2] * (log(2))^(1 / mle1$par[1])\n",
    "  m0 <- mle0$par[2] * (log(2))^(1 / mle0$par[1])\n",
    "  \n",
    "  boot_diffs_h0[b] <- m0 - m1\n",
    "}\n",
    "\n",
    "# Observed difference\n",
    "obs_diff <- mediana_G0 - mediana_G1\n",
    "\n",
    "# p-value\n",
    "p_value_boot <- mean(abs(boot_diffs_h0) >= abs(obs_diff))\n",
    "sum(abs(boot_diffs_h0) >= abs(obs_diff))\n",
    "\n",
    "abs(obs_diff)\n",
    "head(abs(boot_diffs_h0))\n",
    "\n",
    "# Result\n",
    "cat(\"Observed median difference:\", round(abs(obs_diff), 3),\n",
    "    \"\\np-value of the test:\", round(p_value_boot, 4), \"\\n\")\n"
   ]
  },
  {
   "cell_type": "code",
   "execution_count": null,
   "id": "fe2d8b5d-a700-472b-a66d-0518057773e1",
   "metadata": {},
   "outputs": [],
   "source": []
  },
  {
   "cell_type": "code",
   "execution_count": null,
   "id": "5ba61b61-6a82-4e8e-8025-6797379d31ca",
   "metadata": {},
   "outputs": [],
   "source": []
  }
 ],
 "metadata": {
  "kernelspec": {
   "display_name": "R",
   "language": "R",
   "name": "ir"
  },
  "language_info": {
   "codemirror_mode": "r",
   "file_extension": ".r",
   "mimetype": "text/x-r-source",
   "name": "R",
   "pygments_lexer": "r",
   "version": "3.6.1"
  }
 },
 "nbformat": 4,
 "nbformat_minor": 5
}
